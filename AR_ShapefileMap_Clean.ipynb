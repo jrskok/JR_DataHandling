{
 "cells": [
  {
   "cell_type": "code",
   "execution_count": null,
   "metadata": {},
   "outputs": [],
   "source": [
    "from mpl_toolkits.basemap import Basemap\n",
    "import matplotlib.pyplot as plt\n",
    "from matplotlib.patches import Polygon\n",
    "from matplotlib.collections import PatchCollection\n",
    "from matplotlib.patches import PathPatch\n",
    "import numpy as np\n",
    "\n",
    "fig = plt.figure(num=None, figsize=(100, 50))\n",
    "ax=fig.add_subplot(111)\n",
    "map = Basemap(projection='cyl', llcrnrlat = -90, llcrnrlon = -180, urcrnrlat = 90, urcrnrlon = 180)\n",
    "#map.bluemarble()\n",
    "\n",
    "#Fill the globe with a blue color \n",
    "#map.drawmapboundary(fill_color='aqua')\n",
    "#Fill the continents with the land color\n",
    "#map.fillcontinents(color='coral',lake_color='aqua')\n",
    "\n",
    "map.drawcoastlines()\n",
    "\n",
    "map.readshapefile(\"data_0\", \"data_0\", drawbounds = False)\n",
    "\n",
    "patches = []\n",
    "\n",
    "for info, shape in zip(map.data_0, map.data_0):\n",
    "        patches.append( Polygon(np.array(shape), True) )\n",
    "        \n",
    "ax.add_collection(PatchCollection(patches, facecolor= 'g', edgecolor='k', linewidths=1., zorder=2))\n",
    "\n",
    "\n",
    "#plt.show()\n",
    "plt.gca().set_axis_off()\n",
    "plt.subplots_adjust(top = 1, bottom = 0, right = 1, left = 0, hspace = 0, wspace = 0)\n",
    "plt.margins(0,0)\n",
    "plt.savefig('/Users/JR/Google Drive/Skok_ToDo/AR_EarthDataPlan/Pipeline/BB_black.png',transparent = True, bbox_inches='tight', pad_inches=0.0, facecolor='black')\n"
   ]
  }
 ],
 "metadata": {
  "kernelspec": {
   "display_name": "Python 3",
   "language": "python",
   "name": "python3"
  },
  "language_info": {
   "codemirror_mode": {
    "name": "ipython",
    "version": 3
   },
   "file_extension": ".py",
   "mimetype": "text/x-python",
   "name": "python",
   "nbconvert_exporter": "python",
   "pygments_lexer": "ipython3",
   "version": "3.7.1"
  }
 },
 "nbformat": 4,
 "nbformat_minor": 2
}
